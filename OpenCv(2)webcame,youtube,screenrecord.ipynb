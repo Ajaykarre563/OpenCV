{
  "nbformat": 4,
  "nbformat_minor": 0,
  "metadata": {
    "colab": {
      "provenance": []
    },
    "kernelspec": {
      "name": "python3",
      "display_name": "Python 3"
    },
    "language_info": {
      "name": "python"
    }
  },
  "cells": [
    {
      "cell_type": "markdown",
      "source": [
        "# **How to use android device camera as webcam in Opencv.**"
      ],
      "metadata": {
        "id": "1IDytmEABKs_"
      }
    },
    {
      "cell_type": "code",
      "execution_count": null,
      "metadata": {
        "colab": {
          "base_uri": "https://localhost:8080/"
        },
        "id": "6HBQubKU7vxK",
        "outputId": "eb72d6c0-2d43-4765-a83e-8765fdf3ebd3"
      },
      "outputs": [
        {
          "output_type": "stream",
          "name": "stdout",
          "text": [
            "check=== False\n"
          ]
        }
      ],
      "source": [
        "#How to read Video from any folder using opencv\n",
        "\n",
        "import cv2\n",
        "from google.colab.patches import cv2_imshow\n",
        "\n",
        "camera=\"http://192.168.5.12:8080/video\"\n",
        "#Capture  video from webcam and save it\n",
        "\n",
        "cap = cv2.VideoCapture(0,cv2.CAP_DSHOW)   #Here parameter 0 is a path of any video use for webcam\n",
        "cap.open(camera)\n",
        "print(\"check===\",cap.isOpened())\n",
        "\n",
        "#it is 4 byte code which is use to specify the video codec\n",
        "#Various codec --\n",
        "#DIVX, XVID, MJPG, X264, WMV1, WMV2\n",
        "fourcc = cv2.VideoWriter_fourcc(*\"XVID\")  # *\"XVID\"\n",
        "#It contain 4 parameter , name, codec,fps,resolution\n",
        "output = cv2.VideoWriter(\"output.avi\",fourcc,20.0,(640,480)) #output.avi drive path\n",
        "\n",
        "while(cap.isOpened()):\n",
        "    ret, frame = cap.read()   #here read the frame\n",
        "\n",
        "    if ret==True:\n",
        "      frame=cv2.resize(frame,(700,700))\n",
        "      cv2.imshow(\"Colorframe\",frame)\n",
        "      output.write(frame)\n",
        "\n",
        "      if cv2.waitKey(1) & 0xFF == ord('q'):\n",
        "        break\n",
        "\n",
        "\n",
        "# Release everything if job is finished\n",
        "cap.release()\n",
        "output.release()\n",
        "cv2.destroyAllWindows()\n",
        "\n"
      ]
    },
    {
      "cell_type": "markdown",
      "source": [
        "# **Capture the video from Youtube**"
      ],
      "metadata": {
        "id": "_3qOj02PEO4L"
      }
    },
    {
      "cell_type": "code",
      "source": [
        "pip install pafy"
      ],
      "metadata": {
        "colab": {
          "base_uri": "https://localhost:8080/"
        },
        "id": "pPbORAULC7w3",
        "outputId": "0da91769-e24f-49b7-9585-daf22e4971c5"
      },
      "execution_count": null,
      "outputs": [
        {
          "output_type": "stream",
          "name": "stdout",
          "text": [
            "Requirement already satisfied: pafy in /usr/local/lib/python3.10/dist-packages (0.5.5)\n"
          ]
        }
      ]
    },
    {
      "cell_type": "code",
      "source": [
        "pip install youtube_dl"
      ],
      "metadata": {
        "colab": {
          "base_uri": "https://localhost:8080/"
        },
        "id": "Q4dhcmjtGnW6",
        "outputId": "91ce97d4-12a7-4c47-a3fc-cbf9e575ea3e"
      },
      "execution_count": null,
      "outputs": [
        {
          "output_type": "stream",
          "name": "stdout",
          "text": [
            "Collecting youtube_dl\n",
            "  Downloading youtube_dl-2021.12.17-py2.py3-none-any.whl.metadata (1.5 kB)\n",
            "Downloading youtube_dl-2021.12.17-py2.py3-none-any.whl (1.9 MB)\n",
            "\u001b[?25l   \u001b[90m━━━━━━━━━━━━━━━━━━━━━━━━━━━━━━━━━━━━━━━━\u001b[0m \u001b[32m0.0/1.9 MB\u001b[0m \u001b[31m?\u001b[0m eta \u001b[36m-:--:--\u001b[0m\r\u001b[2K   \u001b[91m━━━\u001b[0m\u001b[90m╺\u001b[0m\u001b[90m━━━━━━━━━━━━━━━━━━━━━━━━━━━━━━━━━━━━\u001b[0m \u001b[32m0.2/1.9 MB\u001b[0m \u001b[31m4.6 MB/s\u001b[0m eta \u001b[36m0:00:01\u001b[0m\r\u001b[2K   \u001b[91m━━━━━━━━━━━━━━━━━━━━━━━━━\u001b[0m\u001b[90m╺\u001b[0m\u001b[90m━━━━━━━━━━━━━━\u001b[0m \u001b[32m1.2/1.9 MB\u001b[0m \u001b[31m17.0 MB/s\u001b[0m eta \u001b[36m0:00:01\u001b[0m\r\u001b[2K   \u001b[90m━━━━━━━━━━━━━━━━━━━━━━━━━━━━━━━━━━━━━━━━\u001b[0m \u001b[32m1.9/1.9 MB\u001b[0m \u001b[31m19.1 MB/s\u001b[0m eta \u001b[36m0:00:00\u001b[0m\n",
            "\u001b[?25hInstalling collected packages: youtube_dl\n",
            "Successfully installed youtube_dl-2021.12.17\n"
          ]
        }
      ]
    },
    {
      "cell_type": "code",
      "source": [
        "# Install necessary libraries\n",
        "!pip install opencv-python-headless yt-dlp\n",
        "\n",
        "import cv2\n",
        "import yt_dlp # capture the youtube\n",
        "from google.colab.patches import cv2_imshow\n",
        "\n",
        "# Function to get video URL from YouTube\n",
        "def get_video_url(youtube_url):\n",
        "    ydl_opts = {'format': 'best'}\n",
        "    with yt_dlp.YoutubeDL(ydl_opts) as ydl:\n",
        "        info_dict = ydl.extract_info(youtube_url, download=False)\n",
        "        video_url = info_dict['url']\n",
        "    return video_url\n",
        "\n",
        "# URL of the YouTube video\n",
        "url = \"https://www.youtube.com/watch?v=tR8Zw97rrX8\"\n",
        "video_url = get_video_url(url)\n",
        "\n",
        "# Open the video URL with OpenCV\n",
        "cap = cv2.VideoCapture(video_url)\n",
        "print(\"Check video opened:\", cap.isOpened())\n",
        "\n",
        "# Process the video frames\n",
        "while cap.isOpened():\n",
        "    ret, frame = cap.read()\n",
        "\n",
        "    if ret:\n",
        "        # Display original frame\n",
        "        cv2_imshow(frame)\n",
        "\n",
        "        # Convert to grayscale and display\n",
        "        gray = cv2.cvtColor(frame, cv2.COLOR_BGR2GRAY)\n",
        "        cv2_imshow(gray)\n",
        "\n",
        "        # Break loop with a condition\n",
        "        if cv2.waitKey(1) & 0xFF == ord('q'):\n",
        "            break\n",
        "    else:\n",
        "        break\n",
        "\n",
        "# Release everything when done\n",
        "cap.release()\n",
        "cv2.destroyAllWindows()\n"
      ],
      "metadata": {
        "id": "51wtG6fYKLBR"
      },
      "execution_count": null,
      "outputs": []
    },
    {
      "cell_type": "code",
      "source": [
        "pip install pyautogui"
      ],
      "metadata": {
        "colab": {
          "base_uri": "https://localhost:8080/"
        },
        "id": "s3WlHpZOKhiv",
        "outputId": "1a5e60dc-ec6a-499c-bd39-171ecf707f29"
      },
      "execution_count": 4,
      "outputs": [
        {
          "output_type": "stream",
          "name": "stdout",
          "text": [
            "Requirement already satisfied: pyautogui in /usr/local/lib/python3.10/dist-packages (0.9.54)\n",
            "Requirement already satisfied: pymsgbox in /usr/local/lib/python3.10/dist-packages (from pyautogui) (1.0.9)\n",
            "Requirement already satisfied: pytweening>=1.0.4 in /usr/local/lib/python3.10/dist-packages (from pyautogui) (1.2.0)\n",
            "Requirement already satisfied: pyscreeze>=0.1.21 in /usr/local/lib/python3.10/dist-packages (from pyautogui) (1.0.1)\n",
            "Requirement already satisfied: pygetwindow>=0.0.5 in /usr/local/lib/python3.10/dist-packages (from pyautogui) (0.0.9)\n",
            "Requirement already satisfied: mouseinfo in /usr/local/lib/python3.10/dist-packages (from pyautogui) (0.1.3)\n",
            "Requirement already satisfied: python3-Xlib in /usr/local/lib/python3.10/dist-packages (from pyautogui) (0.15)\n",
            "Requirement already satisfied: pyrect in /usr/local/lib/python3.10/dist-packages (from pygetwindow>=0.0.5->pyautogui) (0.2.0)\n",
            "Requirement already satisfied: Pillow>=9.2.0 in /usr/local/lib/python3.10/dist-packages (from pyscreeze>=0.1.21->pyautogui) (10.4.0)\n",
            "Requirement already satisfied: pyperclip in /usr/local/lib/python3.10/dist-packages (from mouseinfo->pyautogui) (1.9.0)\n"
          ]
        }
      ]
    },
    {
      "cell_type": "markdown",
      "source": [
        "# pyautogui it is used to take the screenshot continues and store in array."
      ],
      "metadata": {
        "id": "Ywx-V05rL3py"
      }
    },
    {
      "cell_type": "markdown",
      "source": [
        "# **Basic code for ScreenRecording by using opencv**"
      ],
      "metadata": {
        "id": "XU6bP0hyTIzT"
      }
    },
    {
      "cell_type": "code",
      "source": [
        "\n",
        "import cv2 as c\n",
        "import pyautogui as p\n",
        "import numpy as np\n",
        "\n",
        "#create a resolution\n",
        "rs=p.size(600,300)\n",
        "\n",
        "#filename in which we store recording\n",
        "fn=input(\"Enter any file name and path\")\n",
        "\n",
        "#fix the frame rate\n",
        "fps=60.0\n",
        "\n",
        "# Define the video codec and create VideoWriter object\n",
        "fourcc = cv2.VideoWriter_fourcc(*\"XVID\")\n",
        "out = cv2.VideoWriter(fn,fourcc,fps,rs)\n",
        "\n",
        "\n",
        "#creating the recording module\n",
        "c.namedWindow(\"Live_Recording\",c.WINDOW_NORMAL)\n",
        "c.resizeWindow(\"Live_Recording\",(640,480))\n",
        "\n",
        "# Screen recording loop\n",
        "while True:\n",
        "    # Take a screenshot\n",
        "    img = p.screenshot()\n",
        "    f=np.array(img)\n",
        "    frame=c.cvtColor(f,c.COLOR_BGR2RGB)\n",
        "\n",
        "    # Convert the screenshot to a NumPy array\n",
        "    out.write(f)\n",
        "\n",
        "    # Display the frame\n",
        "    cv2.imshow(\"res\",f)\n",
        "\n",
        "    # Exit recording if 'q' is pressed\n",
        "    if c.waitKey(1) & 0xFF == ord(\"q\"):\n",
        "        break\n",
        "\n",
        "# Release resources\n",
        "output.release()\n",
        "c.destroyAllWindows()\n"
      ],
      "metadata": {
        "id": "ihEmGZluS1qW"
      },
      "execution_count": null,
      "outputs": []
    }
  ]
}
